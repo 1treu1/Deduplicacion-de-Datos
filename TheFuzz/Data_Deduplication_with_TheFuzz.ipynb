{
  "nbformat": 4,
  "nbformat_minor": 0,
  "metadata": {
    "colab": {
      "provenance": []
    },
    "kernelspec": {
      "name": "python3",
      "display_name": "Python 3"
    },
    "language_info": {
      "name": "python"
    }
  },
  "cells": [
    {
      "cell_type": "markdown",
      "source": [
        "  # TheFuzz\n",
        "\n",
        "<div align=\"center\">\n",
        "\n",
        "\n",
        "  <a href=\"https://github.com/1treu1/Deduplicacion-de-Datos/tree/main/TheFuzz\" target=\"_blank\">\n",
        "    <img width=\"1024\", src=\"https://m.media-amazon.com/images/S/pv-target-images/39981144ca9d92fcfa857223ea889663d35999d5fae146d42f658cf7c49f025a.jpg\" width=\"800\" height=\"400\"></a>\n",
        "\n",
        "\n",
        "<br>\n",
        "  <a href=\"https://colab.research.google.com/drive/1LMZnbyKUBBGIzB7fPmd2dhI6KNpJ_MHO?usp=sharing\"><img src=\"https://colab.research.google.com/assets/colab-badge.svg\" alt=\"Open In Colab\"></a>\n",
        "  <a href=\"https://github.com/1treu1/Deduplicacion-de-Datos/tree/main/TheFuzz\"><img src=\"https://img.shields.io/badge/github-Open In Github-brightgreen.svg\" alt=\"Open In Github\"></a>\n",
        "</br>\n",
        "Esta libreria permite encontrar registros duplicados usando la distancia de Levenstein.\n",
        "</div>\n",
        "\n",
        "\n",
        "* Levenstein Distance: https://en.wikipedia.org/wiki/Levenshtein_distance"
      ],
      "metadata": {
        "id": "_XmM9CAa4ReG"
      }
    },
    {
      "cell_type": "markdown",
      "source": [
        "## Paso 1: Instalar Librerias"
      ],
      "metadata": {
        "id": "n-eaFLhJ4I0_"
      }
    },
    {
      "cell_type": "code",
      "execution_count": 1,
      "metadata": {
        "colab": {
          "base_uri": "https://localhost:8080/"
        },
        "id": "as12DSJB32rO",
        "outputId": "638585ff-9b03-4247-e6ca-f35c98877794"
      },
      "outputs": [
        {
          "output_type": "stream",
          "name": "stdout",
          "text": [
            "Collecting thefuzz\n",
            "  Downloading thefuzz-0.20.0-py3-none-any.whl (15 kB)\n",
            "Collecting rapidfuzz<4.0.0,>=3.0.0 (from thefuzz)\n",
            "  Downloading rapidfuzz-3.4.0-cp310-cp310-manylinux_2_17_x86_64.manylinux2014_x86_64.whl (3.2 MB)\n",
            "\u001b[2K     \u001b[90m━━━━━━━━━━━━━━━━━━━━━━━━━━━━━━━━━━━━━━━━\u001b[0m \u001b[32m3.2/3.2 MB\u001b[0m \u001b[31m17.6 MB/s\u001b[0m eta \u001b[36m0:00:00\u001b[0m\n",
            "\u001b[?25hInstalling collected packages: rapidfuzz, thefuzz\n",
            "Successfully installed rapidfuzz-3.4.0 thefuzz-0.20.0\n",
            "Collecting faker\n",
            "  Downloading Faker-19.12.0-py3-none-any.whl (1.7 MB)\n",
            "\u001b[2K     \u001b[90m━━━━━━━━━━━━━━━━━━━━━━━━━━━━━━━━━━━━━━━━\u001b[0m \u001b[32m1.7/1.7 MB\u001b[0m \u001b[31m11.0 MB/s\u001b[0m eta \u001b[36m0:00:00\u001b[0m\n",
            "\u001b[?25hRequirement already satisfied: python-dateutil>=2.4 in /usr/local/lib/python3.10/dist-packages (from faker) (2.8.2)\n",
            "Requirement already satisfied: six>=1.5 in /usr/local/lib/python3.10/dist-packages (from python-dateutil>=2.4->faker) (1.16.0)\n",
            "Installing collected packages: faker\n",
            "Successfully installed faker-19.12.0\n"
          ]
        }
      ],
      "source": [
        "!pip install thefuzz\n",
        "!pip install faker"
      ]
    },
    {
      "cell_type": "markdown",
      "source": [
        "# Paso 2: Crear Base de Datos de Ejemplo"
      ],
      "metadata": {
        "id": "feNMzujPMExt"
      }
    },
    {
      "cell_type": "markdown",
      "source": [
        "Crearemos a 1000 clientes de una empresa, sus atributos son Nombre, Apellido, DNI y Fecha de Nacimiento. Para esto, usaremos la libreria Faker, que permite generar nombres y datos aleatorios de lo que queramos :3"
      ],
      "metadata": {
        "id": "2qAyMSWLMPT7"
      }
    },
    {
      "cell_type": "code",
      "source": [
        "import pandas as pd\n",
        "from faker import Faker\n",
        "\n",
        "# Crear una instancia de Faker\n",
        "fake = Faker(\"es_ES\")\n",
        "Faker.seed(222)\n",
        "# Crear una lista vacía para almacenar los usuarios\n",
        "usuarios = []\n",
        "\n",
        "# Generar 1000 usuarios aleatorios\n",
        "for _ in range(1000):\n",
        "    nombre = fake.first_name()\n",
        "    apellido = fake.last_name()\n",
        "    dni = fake.unique.random_number(digits=8)\n",
        "    fecha_nacimiento = fake.date_of_birth(minimum_age=18, maximum_age=90)\n",
        "    usuarios.append((nombre, apellido, dni, fecha_nacimiento))\n",
        "\n",
        "# Crear un dataframe a partir de la lista de usuarios\n",
        "df = pd.DataFrame(usuarios, columns=['Nombre', 'Apellido', 'DNI', 'Fecha de nacimiento'])\n",
        "\n",
        "# Mostrar los primeros registros del dataframe\n",
        "print(df.head())"
      ],
      "metadata": {
        "colab": {
          "base_uri": "https://localhost:8080/"
        },
        "id": "8Hnkhgac4Hoo",
        "outputId": "b20521b2-114a-4366-f0fe-053d1a786dfb"
      },
      "execution_count": 2,
      "outputs": [
        {
          "output_type": "stream",
          "name": "stdout",
          "text": [
            "    Nombre   Apellido       DNI Fecha de nacimiento\n",
            "0  Melania     Campos  31574101          1971-06-18\n",
            "1  Mariano     Angulo   3918234          1998-05-16\n",
            "2  Jacinto    Salgado  99348528          1992-11-17\n",
            "3   Víctor  Benavides   2180849          1946-09-10\n",
            "4   Silvio      Belda  65820934          2002-12-17\n"
          ]
        }
      ]
    },
    {
      "cell_type": "markdown",
      "source": [
        "# Paso 3: Ahora crearemos algunos duplicados:"
      ],
      "metadata": {
        "id": "aTQCumH3NM7I"
      }
    },
    {
      "cell_type": "code",
      "source": [
        "df1 = df.sample(frac=0.2, random_state=333) #Creando 200 duplicados\n",
        "df1.index = range(len(df1))\n",
        "df1.shape"
      ],
      "metadata": {
        "colab": {
          "base_uri": "https://localhost:8080/"
        },
        "id": "dSi1zzu-J_jV",
        "outputId": "a3af173d-f835-41d3-d43c-29d1f33be8e0"
      },
      "execution_count": 3,
      "outputs": [
        {
          "output_type": "execute_result",
          "data": {
            "text/plain": [
              "(200, 4)"
            ]
          },
          "metadata": {},
          "execution_count": 3
        }
      ]
    },
    {
      "cell_type": "code",
      "source": [
        "print(\"Datos originales\", df.shape)\n",
        "print(\"Datos duplicados\", df1.shape)"
      ],
      "metadata": {
        "id": "LW9M7i_z42y-",
        "colab": {
          "base_uri": "https://localhost:8080/"
        },
        "outputId": "af9e0adc-9abc-4c78-cbbc-f0ecec3cdc3f"
      },
      "execution_count": 4,
      "outputs": [
        {
          "output_type": "stream",
          "name": "stdout",
          "text": [
            "Datos originales (1000, 4)\n",
            "Datos duplicados (200, 4)\n"
          ]
        }
      ]
    },
    {
      "cell_type": "markdown",
      "source": [
        "# Paso 4: Limpieza\n",
        "* Ahora vamos a hacer una limpieza de los datos"
      ],
      "metadata": {
        "id": "EktG5hluOVst"
      }
    },
    {
      "cell_type": "code",
      "source": [
        "dfA = df.copy()\n",
        "dfB = df1.copy()\n",
        "\n",
        "dfA.shape, dfB.shape"
      ],
      "metadata": {
        "colab": {
          "base_uri": "https://localhost:8080/"
        },
        "id": "eoj1mKUK1RGx",
        "outputId": "d32bfb01-74d9-48c1-c501-3124d3520cdd"
      },
      "execution_count": 7,
      "outputs": [
        {
          "output_type": "execute_result",
          "data": {
            "text/plain": [
              "((1000, 4), (200, 4))"
            ]
          },
          "metadata": {},
          "execution_count": 7
        }
      ]
    },
    {
      "cell_type": "markdown",
      "source": [
        "* Convertimos cada columna en tipo str"
      ],
      "metadata": {
        "id": "lqfuILI6e_7V"
      }
    },
    {
      "cell_type": "code",
      "source": [
        "dfA['Nombre'] = dfA['Nombre'].astype(str)\n",
        "dfA['Apellido'] = dfA['Apellido'].astype(str)\n",
        "dfA['Fecha de nacimiento'] = dfA['Fecha de nacimiento'].astype(str)\n",
        "dfB['Nombre'] = dfB['Nombre'].astype(str)\n",
        "dfB['Apellido'] = dfB['Apellido'].astype(str)\n",
        "dfB['Fecha de nacimiento'] = dfB['Fecha de nacimiento'].astype(str)"
      ],
      "metadata": {
        "id": "BNRqfWLh3sjj"
      },
      "execution_count": 8,
      "outputs": []
    },
    {
      "cell_type": "markdown",
      "source": [
        "* Pasamos todas las cadenas a minusculas"
      ],
      "metadata": {
        "id": "uZWl01wNfIBi"
      }
    },
    {
      "cell_type": "code",
      "source": [
        "dfA['Nombre'] = dfA['Nombre'].str.lower()\n",
        "dfA['Apellido'] = dfA['Apellido'].str.lower()\n",
        "dfB['Nombre'] = dfB['Nombre'].str.lower()\n",
        "dfB['Apellido'] = dfB['Apellido'].str.lower()"
      ],
      "metadata": {
        "id": "i1VUwUxK5y9K"
      },
      "execution_count": 9,
      "outputs": []
    },
    {
      "cell_type": "markdown",
      "source": [
        "* Eliminamos carecteres especiales"
      ],
      "metadata": {
        "id": "n3jT3UYbfM_g"
      }
    },
    {
      "cell_type": "code",
      "source": [
        "CharEspetial = [\"á\",\"é\",\"í\",\"ó\",\"ú\",\"à\",\"è\",\"ì\",\"ò\",\"ù\",\"-\",\"/\",\"  \"]\n",
        "Char = [\"a\",\"e\",\"i\",\"o\",\"u\",\"a\",\"e\",\"i\",\"o\",\"u\",\"\",\"\",\" \"]\n",
        "for i in zip(CharEspetial, Char):\n",
        "  dfA['Nombre'] = dfA['Nombre'].str.replace(i[0], i[1])\n",
        "  dfA['Apellido'] = dfA['Apellido'].str.replace(i[0], i[1])\n",
        "  dfB['Nombre'] = dfB['Nombre'].str.replace(i[0], i[1])\n",
        "  dfB['Apellido'] = dfB['Apellido'].str.replace(i[0], i[1])\n",
        "\n",
        "RB = pd.concat([dfA,dfB])\n",
        "RB.index = range(len(RB))\n",
        "RB.shape"
      ],
      "metadata": {
        "id": "WXCYn0Ae-3Ek",
        "colab": {
          "base_uri": "https://localhost:8080/"
        },
        "outputId": "f15ea569-be28-4661-c6e4-b260a336e656"
      },
      "execution_count": 23,
      "outputs": [
        {
          "output_type": "execute_result",
          "data": {
            "text/plain": [
              "(1200, 4)"
            ]
          },
          "metadata": {},
          "execution_count": 23
        }
      ]
    },
    {
      "cell_type": "markdown",
      "source": [
        "# Paso 5: Hallando los duplicados\n",
        "* Usaremos la distancia de Levenstein para encontrar la similitud entre las cadenas"
      ],
      "metadata": {
        "id": "s1v3efWwfhDI"
      }
    },
    {
      "cell_type": "code",
      "source": [
        "from thefuzz import fuzz\n",
        "import time\n",
        "st = time.time()\n",
        "def remove_duplicates(df, threshold=90):\n",
        "    duplicates = set()\n",
        "    processed = []\n",
        "    dup = []\n",
        "    ndup = []\n",
        "    scores = []\n",
        "    scores2 = []\n",
        "    raw = []\n",
        "    for i, row in df.iterrows():\n",
        "        if i not in duplicates:\n",
        "            processed.append(row)\n",
        "\n",
        "            for j, other_row in df.iterrows():\n",
        "                if i != j and j not in duplicates:\n",
        "                    score = fuzz.ratio(row[\"Nombre\"], other_row[\"Nombre\"])\n",
        "                    score2 = fuzz.ratio(row[\"Apellido\"], other_row[\"Apellido\"])\n",
        "\n",
        "                    if score >= threshold and score2 >=threshold:\n",
        "                        duplicates.add(j)\n",
        "                        dup.append(other_row)\n",
        "                        dup.append(row)\n",
        "                        #ndup.append(row)\n",
        "                        #scores.append(score)\n",
        "                        #scores2.append(score2)\n",
        "\n",
        "    et = time.time()\n",
        "    print(\"Duracion\", et-st)\n",
        "    df1 = pd.DataFrame(dup)\n",
        "    #df1['Scores Nombre'] = scores\n",
        "    #df1['Scores Apellido'] = scores\n",
        "    df2 = pd.DataFrame(ndup)\n",
        "    #df2['Scores'] = scores\n",
        "    df3 = pd.DataFrame(processed)\n",
        "    #df3['Scores'] = scores\n",
        "\n",
        "\n",
        "    return df1, df2, df3 # pd.DataFrame(processed)\n",
        "\n",
        "\n",
        "dfOut, dfOut2, raw = remove_duplicates(RB, 90)"
      ],
      "metadata": {
        "colab": {
          "base_uri": "https://localhost:8080/"
        },
        "id": "4wV7zzyTCyPA",
        "outputId": "1567749b-6d9a-4719-8b20-ea3df31448b0"
      },
      "execution_count": 51,
      "outputs": [
        {
          "output_type": "stream",
          "name": "stdout",
          "text": [
            "Duracion 74.43184757232666\n"
          ]
        }
      ]
    },
    {
      "cell_type": "code",
      "source": [
        "dfOut #Son los duplicados que encontro en el dataframe RB"
      ],
      "metadata": {
        "colab": {
          "base_uri": "https://localhost:8080/",
          "height": 423
        },
        "id": "ont_pW4lDr4n",
        "outputId": "71bfffda-883e-41da-a863-9d452b62167c"
      },
      "execution_count": 53,
      "outputs": [
        {
          "output_type": "execute_result",
          "data": {
            "text/plain": [
              "             Nombre   Apellido       DNI Fecha de nacimiento\n",
              "1055       herminio    pedraza  93914566          1966-10-31\n",
              "5          herminio    pedraza  93914566          1966-10-31\n",
              "1083       santiago     amador  26218645          2002-04-04\n",
              "8          santiago     amador  26218645          2002-04-04\n",
              "1062          roman    velasco  11893770          1973-02-21\n",
              "...             ...        ...       ...                 ...\n",
              "990         xiomara       sosa  58853655          1941-05-08\n",
              "1152         leonor    cazorla  85863928          1984-05-27\n",
              "993          leonor    cazorla  85863928          1984-05-27\n",
              "1197  maria angeles  caballero  36058442          1942-03-22\n",
              "994   maria angeles  caballero  36058442          1942-03-22\n",
              "\n",
              "[404 rows x 4 columns]"
            ],
            "text/html": [
              "\n",
              "  <div id=\"df-5b6be667-cf37-42b5-be05-f9ac30bca490\" class=\"colab-df-container\">\n",
              "    <div>\n",
              "<style scoped>\n",
              "    .dataframe tbody tr th:only-of-type {\n",
              "        vertical-align: middle;\n",
              "    }\n",
              "\n",
              "    .dataframe tbody tr th {\n",
              "        vertical-align: top;\n",
              "    }\n",
              "\n",
              "    .dataframe thead th {\n",
              "        text-align: right;\n",
              "    }\n",
              "</style>\n",
              "<table border=\"1\" class=\"dataframe\">\n",
              "  <thead>\n",
              "    <tr style=\"text-align: right;\">\n",
              "      <th></th>\n",
              "      <th>Nombre</th>\n",
              "      <th>Apellido</th>\n",
              "      <th>DNI</th>\n",
              "      <th>Fecha de nacimiento</th>\n",
              "    </tr>\n",
              "  </thead>\n",
              "  <tbody>\n",
              "    <tr>\n",
              "      <th>1055</th>\n",
              "      <td>herminio</td>\n",
              "      <td>pedraza</td>\n",
              "      <td>93914566</td>\n",
              "      <td>1966-10-31</td>\n",
              "    </tr>\n",
              "    <tr>\n",
              "      <th>5</th>\n",
              "      <td>herminio</td>\n",
              "      <td>pedraza</td>\n",
              "      <td>93914566</td>\n",
              "      <td>1966-10-31</td>\n",
              "    </tr>\n",
              "    <tr>\n",
              "      <th>1083</th>\n",
              "      <td>santiago</td>\n",
              "      <td>amador</td>\n",
              "      <td>26218645</td>\n",
              "      <td>2002-04-04</td>\n",
              "    </tr>\n",
              "    <tr>\n",
              "      <th>8</th>\n",
              "      <td>santiago</td>\n",
              "      <td>amador</td>\n",
              "      <td>26218645</td>\n",
              "      <td>2002-04-04</td>\n",
              "    </tr>\n",
              "    <tr>\n",
              "      <th>1062</th>\n",
              "      <td>roman</td>\n",
              "      <td>velasco</td>\n",
              "      <td>11893770</td>\n",
              "      <td>1973-02-21</td>\n",
              "    </tr>\n",
              "    <tr>\n",
              "      <th>...</th>\n",
              "      <td>...</td>\n",
              "      <td>...</td>\n",
              "      <td>...</td>\n",
              "      <td>...</td>\n",
              "    </tr>\n",
              "    <tr>\n",
              "      <th>990</th>\n",
              "      <td>xiomara</td>\n",
              "      <td>sosa</td>\n",
              "      <td>58853655</td>\n",
              "      <td>1941-05-08</td>\n",
              "    </tr>\n",
              "    <tr>\n",
              "      <th>1152</th>\n",
              "      <td>leonor</td>\n",
              "      <td>cazorla</td>\n",
              "      <td>85863928</td>\n",
              "      <td>1984-05-27</td>\n",
              "    </tr>\n",
              "    <tr>\n",
              "      <th>993</th>\n",
              "      <td>leonor</td>\n",
              "      <td>cazorla</td>\n",
              "      <td>85863928</td>\n",
              "      <td>1984-05-27</td>\n",
              "    </tr>\n",
              "    <tr>\n",
              "      <th>1197</th>\n",
              "      <td>maria angeles</td>\n",
              "      <td>caballero</td>\n",
              "      <td>36058442</td>\n",
              "      <td>1942-03-22</td>\n",
              "    </tr>\n",
              "    <tr>\n",
              "      <th>994</th>\n",
              "      <td>maria angeles</td>\n",
              "      <td>caballero</td>\n",
              "      <td>36058442</td>\n",
              "      <td>1942-03-22</td>\n",
              "    </tr>\n",
              "  </tbody>\n",
              "</table>\n",
              "<p>404 rows × 4 columns</p>\n",
              "</div>\n",
              "    <div class=\"colab-df-buttons\">\n",
              "\n",
              "  <div class=\"colab-df-container\">\n",
              "    <button class=\"colab-df-convert\" onclick=\"convertToInteractive('df-5b6be667-cf37-42b5-be05-f9ac30bca490')\"\n",
              "            title=\"Convert this dataframe to an interactive table.\"\n",
              "            style=\"display:none;\">\n",
              "\n",
              "  <svg xmlns=\"http://www.w3.org/2000/svg\" height=\"24px\" viewBox=\"0 -960 960 960\">\n",
              "    <path d=\"M120-120v-720h720v720H120Zm60-500h600v-160H180v160Zm220 220h160v-160H400v160Zm0 220h160v-160H400v160ZM180-400h160v-160H180v160Zm440 0h160v-160H620v160ZM180-180h160v-160H180v160Zm440 0h160v-160H620v160Z\"/>\n",
              "  </svg>\n",
              "    </button>\n",
              "\n",
              "  <style>\n",
              "    .colab-df-container {\n",
              "      display:flex;\n",
              "      gap: 12px;\n",
              "    }\n",
              "\n",
              "    .colab-df-convert {\n",
              "      background-color: #E8F0FE;\n",
              "      border: none;\n",
              "      border-radius: 50%;\n",
              "      cursor: pointer;\n",
              "      display: none;\n",
              "      fill: #1967D2;\n",
              "      height: 32px;\n",
              "      padding: 0 0 0 0;\n",
              "      width: 32px;\n",
              "    }\n",
              "\n",
              "    .colab-df-convert:hover {\n",
              "      background-color: #E2EBFA;\n",
              "      box-shadow: 0px 1px 2px rgba(60, 64, 67, 0.3), 0px 1px 3px 1px rgba(60, 64, 67, 0.15);\n",
              "      fill: #174EA6;\n",
              "    }\n",
              "\n",
              "    .colab-df-buttons div {\n",
              "      margin-bottom: 4px;\n",
              "    }\n",
              "\n",
              "    [theme=dark] .colab-df-convert {\n",
              "      background-color: #3B4455;\n",
              "      fill: #D2E3FC;\n",
              "    }\n",
              "\n",
              "    [theme=dark] .colab-df-convert:hover {\n",
              "      background-color: #434B5C;\n",
              "      box-shadow: 0px 1px 3px 1px rgba(0, 0, 0, 0.15);\n",
              "      filter: drop-shadow(0px 1px 2px rgba(0, 0, 0, 0.3));\n",
              "      fill: #FFFFFF;\n",
              "    }\n",
              "  </style>\n",
              "\n",
              "    <script>\n",
              "      const buttonEl =\n",
              "        document.querySelector('#df-5b6be667-cf37-42b5-be05-f9ac30bca490 button.colab-df-convert');\n",
              "      buttonEl.style.display =\n",
              "        google.colab.kernel.accessAllowed ? 'block' : 'none';\n",
              "\n",
              "      async function convertToInteractive(key) {\n",
              "        const element = document.querySelector('#df-5b6be667-cf37-42b5-be05-f9ac30bca490');\n",
              "        const dataTable =\n",
              "          await google.colab.kernel.invokeFunction('convertToInteractive',\n",
              "                                                    [key], {});\n",
              "        if (!dataTable) return;\n",
              "\n",
              "        const docLinkHtml = 'Like what you see? Visit the ' +\n",
              "          '<a target=\"_blank\" href=https://colab.research.google.com/notebooks/data_table.ipynb>data table notebook</a>'\n",
              "          + ' to learn more about interactive tables.';\n",
              "        element.innerHTML = '';\n",
              "        dataTable['output_type'] = 'display_data';\n",
              "        await google.colab.output.renderOutput(dataTable, element);\n",
              "        const docLink = document.createElement('div');\n",
              "        docLink.innerHTML = docLinkHtml;\n",
              "        element.appendChild(docLink);\n",
              "      }\n",
              "    </script>\n",
              "  </div>\n",
              "\n",
              "\n",
              "<div id=\"df-de4c082d-f8dd-4ecd-b484-553e949cdd4c\">\n",
              "  <button class=\"colab-df-quickchart\" onclick=\"quickchart('df-de4c082d-f8dd-4ecd-b484-553e949cdd4c')\"\n",
              "            title=\"Suggest charts.\"\n",
              "            style=\"display:none;\">\n",
              "\n",
              "<svg xmlns=\"http://www.w3.org/2000/svg\" height=\"24px\"viewBox=\"0 0 24 24\"\n",
              "     width=\"24px\">\n",
              "    <g>\n",
              "        <path d=\"M19 3H5c-1.1 0-2 .9-2 2v14c0 1.1.9 2 2 2h14c1.1 0 2-.9 2-2V5c0-1.1-.9-2-2-2zM9 17H7v-7h2v7zm4 0h-2V7h2v10zm4 0h-2v-4h2v4z\"/>\n",
              "    </g>\n",
              "</svg>\n",
              "  </button>\n",
              "\n",
              "<style>\n",
              "  .colab-df-quickchart {\n",
              "      --bg-color: #E8F0FE;\n",
              "      --fill-color: #1967D2;\n",
              "      --hover-bg-color: #E2EBFA;\n",
              "      --hover-fill-color: #174EA6;\n",
              "      --disabled-fill-color: #AAA;\n",
              "      --disabled-bg-color: #DDD;\n",
              "  }\n",
              "\n",
              "  [theme=dark] .colab-df-quickchart {\n",
              "      --bg-color: #3B4455;\n",
              "      --fill-color: #D2E3FC;\n",
              "      --hover-bg-color: #434B5C;\n",
              "      --hover-fill-color: #FFFFFF;\n",
              "      --disabled-bg-color: #3B4455;\n",
              "      --disabled-fill-color: #666;\n",
              "  }\n",
              "\n",
              "  .colab-df-quickchart {\n",
              "    background-color: var(--bg-color);\n",
              "    border: none;\n",
              "    border-radius: 50%;\n",
              "    cursor: pointer;\n",
              "    display: none;\n",
              "    fill: var(--fill-color);\n",
              "    height: 32px;\n",
              "    padding: 0;\n",
              "    width: 32px;\n",
              "  }\n",
              "\n",
              "  .colab-df-quickchart:hover {\n",
              "    background-color: var(--hover-bg-color);\n",
              "    box-shadow: 0 1px 2px rgba(60, 64, 67, 0.3), 0 1px 3px 1px rgba(60, 64, 67, 0.15);\n",
              "    fill: var(--button-hover-fill-color);\n",
              "  }\n",
              "\n",
              "  .colab-df-quickchart-complete:disabled,\n",
              "  .colab-df-quickchart-complete:disabled:hover {\n",
              "    background-color: var(--disabled-bg-color);\n",
              "    fill: var(--disabled-fill-color);\n",
              "    box-shadow: none;\n",
              "  }\n",
              "\n",
              "  .colab-df-spinner {\n",
              "    border: 2px solid var(--fill-color);\n",
              "    border-color: transparent;\n",
              "    border-bottom-color: var(--fill-color);\n",
              "    animation:\n",
              "      spin 1s steps(1) infinite;\n",
              "  }\n",
              "\n",
              "  @keyframes spin {\n",
              "    0% {\n",
              "      border-color: transparent;\n",
              "      border-bottom-color: var(--fill-color);\n",
              "      border-left-color: var(--fill-color);\n",
              "    }\n",
              "    20% {\n",
              "      border-color: transparent;\n",
              "      border-left-color: var(--fill-color);\n",
              "      border-top-color: var(--fill-color);\n",
              "    }\n",
              "    30% {\n",
              "      border-color: transparent;\n",
              "      border-left-color: var(--fill-color);\n",
              "      border-top-color: var(--fill-color);\n",
              "      border-right-color: var(--fill-color);\n",
              "    }\n",
              "    40% {\n",
              "      border-color: transparent;\n",
              "      border-right-color: var(--fill-color);\n",
              "      border-top-color: var(--fill-color);\n",
              "    }\n",
              "    60% {\n",
              "      border-color: transparent;\n",
              "      border-right-color: var(--fill-color);\n",
              "    }\n",
              "    80% {\n",
              "      border-color: transparent;\n",
              "      border-right-color: var(--fill-color);\n",
              "      border-bottom-color: var(--fill-color);\n",
              "    }\n",
              "    90% {\n",
              "      border-color: transparent;\n",
              "      border-bottom-color: var(--fill-color);\n",
              "    }\n",
              "  }\n",
              "</style>\n",
              "\n",
              "  <script>\n",
              "    async function quickchart(key) {\n",
              "      const quickchartButtonEl =\n",
              "        document.querySelector('#' + key + ' button');\n",
              "      quickchartButtonEl.disabled = true;  // To prevent multiple clicks.\n",
              "      quickchartButtonEl.classList.add('colab-df-spinner');\n",
              "      try {\n",
              "        const charts = await google.colab.kernel.invokeFunction(\n",
              "            'suggestCharts', [key], {});\n",
              "      } catch (error) {\n",
              "        console.error('Error during call to suggestCharts:', error);\n",
              "      }\n",
              "      quickchartButtonEl.classList.remove('colab-df-spinner');\n",
              "      quickchartButtonEl.classList.add('colab-df-quickchart-complete');\n",
              "    }\n",
              "    (() => {\n",
              "      let quickchartButtonEl =\n",
              "        document.querySelector('#df-de4c082d-f8dd-4ecd-b484-553e949cdd4c button');\n",
              "      quickchartButtonEl.style.display =\n",
              "        google.colab.kernel.accessAllowed ? 'block' : 'none';\n",
              "    })();\n",
              "  </script>\n",
              "</div>\n",
              "    </div>\n",
              "  </div>\n"
            ]
          },
          "metadata": {},
          "execution_count": 53
        }
      ]
    },
    {
      "cell_type": "markdown",
      "source": [
        "* Podemos ver que encontró 202 duplicados, un total de 204 registros. De hecho fue capaz de encontrar 2 registros duplicados más, que no creamos al principio, sino que fue generado en la libreria.\n",
        "\n",
        "* Gracias por ver 🥰"
      ],
      "metadata": {
        "id": "RA_FluKjNDXI"
      }
    },
    {
      "cell_type": "code",
      "source": [],
      "metadata": {
        "id": "1776SEQZNBqH"
      },
      "execution_count": null,
      "outputs": []
    }
  ]
}