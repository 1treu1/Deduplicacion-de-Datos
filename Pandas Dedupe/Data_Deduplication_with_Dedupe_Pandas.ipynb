{
  "cells": [
    {
      "attachments": {},
      "cell_type": "markdown",
      "metadata": {
        "id": "_XmM9CAa4ReG"
      },
      "source": [
        "# Pandas Dedupe\n",
        "<div align=\"center\">\n",
        "\n",
        "  \n",
        "  <a href=\"github/ponerlo\" target=\"_blank\">\n",
        "    <img width=\"1024\", src=\"https://encrypted-tbn0.gstatic.com/images?q=tbn:ANd9GcRRaJ10QzX3jvXcKYwaIQAB1zH6Y7TRqVjipg&usqp=CAU\" width=\"100\" height=\"300\"></a>\n",
        "\n",
        "\n",
        "<br>\n",
        "  <a href=\"https://colab.research.google.com/drive/1j-O68NXJtt1TJ_LRJXpI9AMp4iyOvkRn?usp=sharing\"><img src=\"https://colab.research.google.com/assets/colab-badge.svg\" alt=\"Open In Colab\"></a>\n",
        "  <a href=\"colocar repo\"><img src=\"https://img.shields.io/badge/github-Open In Github-brightgreen.svg\" alt=\"Open In Github\"></a>\n",
        "</br>\n",
        "\n",
        "\n",
        "Esta libreria permite clusterizar los registros duplicados.\n",
        "</div>\n"
      ]
    },
    {
      "attachments": {},
      "cell_type": "markdown",
      "metadata": {
        "id": "n-eaFLhJ4I0_"
      },
      "source": [
        "## Paso 1: Instalar Librerias"
      ]
    },
    {
      "cell_type": "code",
      "execution_count": 1,
      "metadata": {
        "colab": {
          "base_uri": "https://localhost:8080/"
        },
        "id": "as12DSJB32rO",
        "outputId": "c2f85fcd-e858-409a-d83c-5d7c17c0eb44"
      },
      "outputs": [
        {
          "name": "stdout",
          "output_type": "stream",
          "text": [
            "Collecting pandas-dedupe\n",
            "  Downloading pandas_dedupe-1.5.0-py3-none-any.whl (12 kB)\n",
            "Collecting dedupe>=2.0.0 (from pandas-dedupe)\n",
            "  Downloading dedupe-2.0.23-cp310-cp310-manylinux_2_5_x86_64.manylinux1_x86_64.manylinux_2_17_x86_64.manylinux2014_x86_64.whl (144 kB)\n",
            "\u001b[2K     \u001b[90m━━━━━━━━━━━━━━━━━━━━━━━━━━━━━━━━━━━━━━━━\u001b[0m \u001b[32m144.1/144.1 kB\u001b[0m \u001b[31m3.6 MB/s\u001b[0m eta \u001b[36m0:00:00\u001b[0m\n",
            "\u001b[?25hCollecting unidecode (from pandas-dedupe)\n",
            "  Downloading Unidecode-1.3.7-py3-none-any.whl (235 kB)\n",
            "\u001b[2K     \u001b[90m━━━━━━━━━━━━━━━━━━━━━━━━━━━━━━━━━━━━━━━━\u001b[0m \u001b[32m235.5/235.5 kB\u001b[0m \u001b[31m14.8 MB/s\u001b[0m eta \u001b[36m0:00:00\u001b[0m\n",
            "\u001b[?25hRequirement already satisfied: pandas in /usr/local/lib/python3.10/dist-packages (from pandas-dedupe) (1.5.3)\n",
            "Requirement already satisfied: scikit-learn in /usr/local/lib/python3.10/dist-packages (from dedupe>=2.0.0->pandas-dedupe) (1.2.2)\n",
            "Collecting affinegap>=1.3 (from dedupe>=2.0.0->pandas-dedupe)\n",
            "  Downloading affinegap-1.12-cp310-cp310-manylinux_2_5_x86_64.manylinux1_x86_64.manylinux_2_12_x86_64.manylinux2010_x86_64.whl (56 kB)\n",
            "\u001b[2K     \u001b[90m━━━━━━━━━━━━━━━━━━━━━━━━━━━━━━━━━━━━━━━━\u001b[0m \u001b[32m56.8/56.8 kB\u001b[0m \u001b[31m6.1 MB/s\u001b[0m eta \u001b[36m0:00:00\u001b[0m\n",
            "\u001b[?25hCollecting categorical-distance>=1.9 (from dedupe>=2.0.0->pandas-dedupe)\n",
            "  Downloading categorical_distance-1.9-py3-none-any.whl (3.3 kB)\n",
            "Collecting dedupe-variable-datetime (from dedupe>=2.0.0->pandas-dedupe)\n",
            "  Downloading dedupe_variable_datetime-1.0.0-py3-none-any.whl (3.9 kB)\n",
            "Requirement already satisfied: numpy>=1.20 in /usr/local/lib/python3.10/dist-packages (from dedupe>=2.0.0->pandas-dedupe) (1.23.5)\n",
            "Collecting doublemetaphone (from dedupe>=2.0.0->pandas-dedupe)\n",
            "  Downloading DoubleMetaphone-1.1-cp310-cp310-manylinux_2_5_x86_64.manylinux1_x86_64.manylinux_2_12_x86_64.manylinux2010_x86_64.whl (150 kB)\n",
            "\u001b[2K     \u001b[90m━━━━━━━━━━━━━━━━━━━━━━━━━━━━━━━━━━━━━━━━\u001b[0m \u001b[32m150.2/150.2 kB\u001b[0m \u001b[31m13.2 MB/s\u001b[0m eta \u001b[36m0:00:00\u001b[0m\n",
            "\u001b[?25hCollecting highered>=0.2.0 (from dedupe>=2.0.0->pandas-dedupe)\n",
            "  Downloading highered-0.2.1-py2.py3-none-any.whl (3.3 kB)\n",
            "Collecting simplecosine>=1.2 (from dedupe>=2.0.0->pandas-dedupe)\n",
            "  Downloading simplecosine-1.2-py2.py3-none-any.whl (3.2 kB)\n",
            "Collecting haversine>=0.4.1 (from dedupe>=2.0.0->pandas-dedupe)\n",
            "  Downloading haversine-2.8.0-py2.py3-none-any.whl (7.7 kB)\n",
            "Collecting BTrees>=4.1.4 (from dedupe>=2.0.0->pandas-dedupe)\n",
            "  Downloading BTrees-5.1-cp310-cp310-manylinux_2_17_x86_64.manylinux2014_x86_64.whl (3.7 MB)\n",
            "\u001b[2K     \u001b[90m━━━━━━━━━━━━━━━━━━━━━━━━━━━━━━━━━━━━━━━━\u001b[0m \u001b[32m3.7/3.7 MB\u001b[0m \u001b[31m24.9 MB/s\u001b[0m eta \u001b[36m0:00:00\u001b[0m\n",
            "\u001b[?25hCollecting zope.index (from dedupe>=2.0.0->pandas-dedupe)\n",
            "  Downloading zope.index-6.0-cp310-cp310-manylinux_2_5_x86_64.manylinux1_x86_64.manylinux_2_17_x86_64.manylinux2014_x86_64.whl (99 kB)\n",
            "\u001b[2K     \u001b[90m━━━━━━━━━━━━━━━━━━━━━━━━━━━━━━━━━━━━━━━━\u001b[0m \u001b[32m99.7/99.7 kB\u001b[0m \u001b[31m12.7 MB/s\u001b[0m eta \u001b[36m0:00:00\u001b[0m\n",
            "\u001b[?25hCollecting dedupe-Levenshtein-search (from dedupe>=2.0.0->pandas-dedupe)\n",
            "  Downloading dedupe_Levenshtein_search-1.4.5-cp310-cp310-manylinux_2_17_x86_64.manylinux2014_x86_64.whl (63 kB)\n",
            "\u001b[2K     \u001b[90m━━━━━━━━━━━━━━━━━━━━━━━━━━━━━━━━━━━━━━━━\u001b[0m \u001b[32m63.2/63.2 kB\u001b[0m \u001b[31m7.7 MB/s\u001b[0m eta \u001b[36m0:00:00\u001b[0m\n",
            "\u001b[?25hRequirement already satisfied: typing-extensions in /usr/local/lib/python3.10/dist-packages (from dedupe>=2.0.0->pandas-dedupe) (4.5.0)\n",
            "Requirement already satisfied: python-dateutil>=2.8.1 in /usr/local/lib/python3.10/dist-packages (from pandas->pandas-dedupe) (2.8.2)\n",
            "Requirement already satisfied: pytz>=2020.1 in /usr/local/lib/python3.10/dist-packages (from pandas->pandas-dedupe) (2023.3.post1)\n",
            "Collecting persistent>=4.1.0 (from BTrees>=4.1.4->dedupe>=2.0.0->pandas-dedupe)\n",
            "  Downloading persistent-5.1-cp310-cp310-manylinux_2_5_x86_64.manylinux1_x86_64.manylinux_2_17_x86_64.manylinux2014_x86_64.whl (231 kB)\n",
            "\u001b[2K     \u001b[90m━━━━━━━━━━━━━━━━━━━━━━━━━━━━━━━━━━━━━━━━\u001b[0m \u001b[32m231.4/231.4 kB\u001b[0m \u001b[31m25.6 MB/s\u001b[0m eta \u001b[36m0:00:00\u001b[0m\n",
            "\u001b[?25hCollecting zope.interface>=5.0.0 (from BTrees>=4.1.4->dedupe>=2.0.0->pandas-dedupe)\n",
            "  Downloading zope.interface-6.1-cp310-cp310-manylinux_2_5_x86_64.manylinux1_x86_64.manylinux_2_17_x86_64.manylinux2014_x86_64.whl (247 kB)\n",
            "\u001b[2K     \u001b[90m━━━━━━━━━━━━━━━━━━━━━━━━━━━━━━━━━━━━━━━━\u001b[0m \u001b[32m247.1/247.1 kB\u001b[0m \u001b[31m27.2 MB/s\u001b[0m eta \u001b[36m0:00:00\u001b[0m\n",
            "\u001b[?25hCollecting pyhacrf-datamade>=0.2.0 (from highered>=0.2.0->dedupe>=2.0.0->pandas-dedupe)\n",
            "  Downloading pyhacrf_datamade-0.2.6-cp310-cp310-manylinux_2_17_x86_64.manylinux2014_x86_64.whl (1.1 MB)\n",
            "\u001b[2K     \u001b[90m━━━━━━━━━━━━━━━━━━━━━━━━━━━━━━━━━━━━━━━━\u001b[0m \u001b[32m1.1/1.1 MB\u001b[0m \u001b[31m44.8 MB/s\u001b[0m eta \u001b[36m0:00:00\u001b[0m\n",
            "\u001b[?25hRequirement already satisfied: six>=1.5 in /usr/local/lib/python3.10/dist-packages (from python-dateutil>=2.8.1->pandas->pandas-dedupe) (1.16.0)\n",
            "INFO: pip is looking at multiple versions of dedupe-variable-datetime to determine which version is compatible with other requirements. This could take a while.\n",
            "Collecting dedupe-variable-datetime (from dedupe>=2.0.0->pandas-dedupe)\n",
            "  Downloading dedupe_variable_datetime-0.1.5-py3-none-any.whl (4.8 kB)\n",
            "Collecting datetime-distance (from dedupe-variable-datetime->dedupe>=2.0.0->pandas-dedupe)\n",
            "  Downloading datetime_distance-0.1.3-py3-none-any.whl (4.1 kB)\n",
            "Requirement already satisfied: future in /usr/local/lib/python3.10/dist-packages (from dedupe-variable-datetime->dedupe>=2.0.0->pandas-dedupe) (0.18.3)\n",
            "Requirement already satisfied: scipy>=1.3.2 in /usr/local/lib/python3.10/dist-packages (from scikit-learn->dedupe>=2.0.0->pandas-dedupe) (1.11.3)\n",
            "Requirement already satisfied: joblib>=1.1.1 in /usr/local/lib/python3.10/dist-packages (from scikit-learn->dedupe>=2.0.0->pandas-dedupe) (1.3.2)\n",
            "Requirement already satisfied: threadpoolctl>=2.0.0 in /usr/local/lib/python3.10/dist-packages (from scikit-learn->dedupe>=2.0.0->pandas-dedupe) (3.2.0)\n",
            "Requirement already satisfied: setuptools in /usr/local/lib/python3.10/dist-packages (from zope.index->dedupe>=2.0.0->pandas-dedupe) (67.7.2)\n",
            "Requirement already satisfied: cffi in /usr/local/lib/python3.10/dist-packages (from persistent>=4.1.0->BTrees>=4.1.4->dedupe>=2.0.0->pandas-dedupe) (1.16.0)\n",
            "Collecting PyLBFGS>=0.1.3 (from pyhacrf-datamade>=0.2.0->highered>=0.2.0->dedupe>=2.0.0->pandas-dedupe)\n",
            "  Downloading PyLBFGS-0.2.0.14-cp310-cp310-manylinux_2_5_x86_64.manylinux1_x86_64.manylinux_2_12_x86_64.manylinux2010_x86_64.whl (274 kB)\n",
            "\u001b[2K     \u001b[90m━━━━━━━━━━━━━━━━━━━━━━━━━━━━━━━━━━━━━━━━\u001b[0m \u001b[32m274.7/274.7 kB\u001b[0m \u001b[31m23.2 MB/s\u001b[0m eta \u001b[36m0:00:00\u001b[0m\n",
            "\u001b[?25hRequirement already satisfied: pycparser in /usr/local/lib/python3.10/dist-packages (from cffi->persistent>=4.1.0->BTrees>=4.1.4->dedupe>=2.0.0->pandas-dedupe) (2.21)\n",
            "Installing collected packages: doublemetaphone, dedupe-Levenshtein-search, affinegap, zope.interface, unidecode, simplecosine, PyLBFGS, haversine, categorical-distance, pyhacrf-datamade, persistent, datetime-distance, highered, BTrees, zope.index, dedupe-variable-datetime, dedupe, pandas-dedupe\n",
            "Successfully installed BTrees-5.1 PyLBFGS-0.2.0.14 affinegap-1.12 categorical-distance-1.9 datetime-distance-0.1.3 dedupe-2.0.23 dedupe-Levenshtein-search-1.4.5 dedupe-variable-datetime-0.1.5 doublemetaphone-1.1 haversine-2.8.0 highered-0.2.1 pandas-dedupe-1.5.0 persistent-5.1 pyhacrf-datamade-0.2.6 simplecosine-1.2 unidecode-1.3.7 zope.index-6.0 zope.interface-6.1\n",
            "Collecting faker\n",
            "  Downloading Faker-19.12.0-py3-none-any.whl (1.7 MB)\n",
            "\u001b[2K     \u001b[90m━━━━━━━━━━━━━━━━━━━━━━━━━━━━━━━━━━━━━━━━\u001b[0m \u001b[32m1.7/1.7 MB\u001b[0m \u001b[31m12.6 MB/s\u001b[0m eta \u001b[36m0:00:00\u001b[0m\n",
            "\u001b[?25hRequirement already satisfied: python-dateutil>=2.4 in /usr/local/lib/python3.10/dist-packages (from faker) (2.8.2)\n",
            "Requirement already satisfied: six>=1.5 in /usr/local/lib/python3.10/dist-packages (from python-dateutil>=2.4->faker) (1.16.0)\n",
            "Installing collected packages: faker\n",
            "Successfully installed faker-19.12.0\n"
          ]
        }
      ],
      "source": [
        "!pip install pandas-dedupe\n",
        "!pip install faker"
      ]
    },
    {
      "attachments": {},
      "cell_type": "markdown",
      "metadata": {
        "id": "feNMzujPMExt"
      },
      "source": [
        "# Paso 2: Crear Base de Datos de Ejemplo"
      ]
    },
    {
      "attachments": {},
      "cell_type": "markdown",
      "metadata": {
        "id": "2qAyMSWLMPT7"
      },
      "source": [
        "Crearemos a 1000 clientes de una empresa, sus atributos son Nombre, Apellido, DNI y Fecha de Nacimiento. Para esto, usaremos la libreria Faker, que permite generar nombres y datos aleatorios de lo que queramos :3"
      ]
    },
    {
      "cell_type": "code",
      "execution_count": 2,
      "metadata": {
        "colab": {
          "base_uri": "https://localhost:8080/"
        },
        "id": "8Hnkhgac4Hoo",
        "outputId": "8a845cda-7304-45f0-ebdb-074a6271bf3d"
      },
      "outputs": [
        {
          "name": "stdout",
          "output_type": "stream",
          "text": [
            "    Nombre   Apellido       DNI Fecha de nacimiento\n",
            "0  Melania     Campos  31574101          1971-06-17\n",
            "1  Mariano     Angulo   3918234          1998-05-15\n",
            "2  Jacinto    Salgado  99348528          1992-11-16\n",
            "3   Víctor  Benavides   2180849          1946-09-09\n",
            "4   Silvio      Belda  65820934          2002-12-16\n"
          ]
        }
      ],
      "source": [
        "import pandas as pd\n",
        "from faker import Faker\n",
        "\n",
        "# Crear una instancia de Faker\n",
        "fake = Faker(\"es_ES\")\n",
        "Faker.seed(222)\n",
        "# Crear una lista vacía para almacenar los usuarios\n",
        "usuarios = []\n",
        "\n",
        "# Generar 1000 usuarios aleatorios\n",
        "for _ in range(1000):\n",
        "    nombre = fake.first_name()\n",
        "    apellido = fake.last_name()\n",
        "    dni = fake.unique.random_number(digits=8)\n",
        "    fecha_nacimiento = fake.date_of_birth(minimum_age=18, maximum_age=90)\n",
        "    usuarios.append((nombre, apellido, dni, fecha_nacimiento))\n",
        "\n",
        "# Crear un dataframe a partir de la lista de usuarios\n",
        "df = pd.DataFrame(usuarios, columns=['Nombre', 'Apellido', 'DNI', 'Fecha de nacimiento'])\n",
        "\n",
        "# Mostrar los primeros registros del dataframe\n",
        "print(df.head())"
      ]
    },
    {
      "attachments": {},
      "cell_type": "markdown",
      "metadata": {
        "id": "aTQCumH3NM7I"
      },
      "source": [
        "# Paso 3: Ahora crearemos algunos duplicados:"
      ]
    },
    {
      "cell_type": "code",
      "execution_count": 3,
      "metadata": {
        "colab": {
          "base_uri": "https://localhost:8080/"
        },
        "id": "dSi1zzu-J_jV",
        "outputId": "93deb304-7737-4d9f-decf-04bb5031f7c3"
      },
      "outputs": [
        {
          "data": {
            "text/plain": [
              "(200, 4)"
            ]
          },
          "execution_count": 3,
          "metadata": {},
          "output_type": "execute_result"
        }
      ],
      "source": [
        "df1 = df.sample(frac=0.2, random_state=333) #Creando 200 duplicados\n",
        "df1.shape"
      ]
    },
    {
      "cell_type": "code",
      "execution_count": 4,
      "metadata": {
        "colab": {
          "base_uri": "https://localhost:8080/"
        },
        "id": "LW9M7i_z42y-",
        "outputId": "f6d62829-fe8c-4900-cdd7-86634a16dfc1"
      },
      "outputs": [
        {
          "data": {
            "text/plain": [
              "(1200, 4)"
            ]
          },
          "execution_count": 4,
          "metadata": {},
          "output_type": "execute_result"
        }
      ],
      "source": [
        "from pandas_dedupe import dedupe_dataframe\n",
        "df = pd.concat([df, df1]) # Concatenando los dos sets\n",
        "df.index = range(len(df)) # Colocando indices secuenciales\n",
        "df.shape"
      ]
    },
    {
      "attachments": {},
      "cell_type": "markdown",
      "metadata": {
        "id": "EktG5hluOVst"
      },
      "source": [
        "# Paso 4:\n",
        "* Ahora vamos a entrenar el modelo con pandas dedupe:\n",
        "* La libreria va imprimir iterativamente en consola los que ella crea que sean duplicados y deberas decirle si es, o no es un duplicado.\n",
        "* El entrenamiento solo se hace una vez. Ya que ella guarda el modelo enrenado en un json"
      ]
    },
    {
      "cell_type": "code",
      "execution_count": 5,
      "metadata": {
        "colab": {
          "base_uri": "https://localhost:8080/"
        },
        "id": "KQ_WFvAU5inK",
        "outputId": "56f7edcf-eb0e-40b1-ef94-3d2c600bd0c6"
      },
      "outputs": [
        {
          "name": "stdout",
          "output_type": "stream",
          "text": [
            "Importing data ...\n"
          ]
        },
        {
          "name": "stderr",
          "output_type": "stream",
          "text": [
            "<ipython-input-5-fb542dd91aaf>:1: FutureWarning: The default value of regex will change from True to False in a future version.\n",
            "  dedupe_df = dedupe_dataframe(df, ['Nombre', 'Apellido', 'DNI', 'Fecha de nacimiento']) #Entrenando modelo\n",
            "Nombre : leonor\n",
            "Apellido : marin\n",
            "DNI : 91218703\n",
            "Fecha de nacimiento : 1978-12-10\n",
            "\n",
            "Nombre : leonor\n",
            "Apellido : martin\n",
            "DNI : 97008641\n",
            "Fecha de nacimiento : 1992-02-14\n",
            "\n",
            "0/10 positive, 0/10 negative\n",
            "Do these records refer to the same thing?\n",
            "(y)es / (n)o / (u)nsure / (f)inished\n"
          ]
        },
        {
          "name": "stdout",
          "output_type": "stream",
          "text": [
            "Starting active labeling...\n",
            "n\n"
          ]
        },
        {
          "name": "stderr",
          "output_type": "stream",
          "text": [
            "Nombre : leonor\n",
            "Apellido : marin\n",
            "DNI : 91218703\n",
            "Fecha de nacimiento : 1978-12-10\n",
            "\n",
            "Nombre : leonor\n",
            "Apellido : martin\n",
            "DNI : 97008641\n",
            "Fecha de nacimiento : 1992-02-14\n",
            "\n",
            "0/10 positive, 1/10 negative\n",
            "Do these records refer to the same thing?\n",
            "(y)es / (n)o / (u)nsure / (f)inished / (p)revious\n"
          ]
        },
        {
          "name": "stdout",
          "output_type": "stream",
          "text": [
            "n\n"
          ]
        },
        {
          "name": "stderr",
          "output_type": "stream",
          "text": [
            "Nombre : fabricio\n",
            "Apellido : roman\n",
            "DNI : 18648608\n",
            "Fecha de nacimiento : 1956-12-23\n",
            "\n",
            "Nombre : roberto\n",
            "Apellido : montalban\n",
            "DNI : 88648608\n",
            "Fecha de nacimiento : 1967-02-16\n",
            "\n",
            "0/10 positive, 2/10 negative\n",
            "Do these records refer to the same thing?\n",
            "(y)es / (n)o / (u)nsure / (f)inished / (p)revious\n"
          ]
        },
        {
          "name": "stdout",
          "output_type": "stream",
          "text": [
            "n\n"
          ]
        },
        {
          "name": "stderr",
          "output_type": "stream",
          "text": [
            "Nombre : fabricio\n",
            "Apellido : roman\n",
            "DNI : 18648608\n",
            "Fecha de nacimiento : 1956-12-23\n",
            "\n",
            "Nombre : roberto\n",
            "Apellido : montalban\n",
            "DNI : 88648608\n",
            "Fecha de nacimiento : 1967-02-16\n",
            "\n",
            "0/10 positive, 3/10 negative\n",
            "Do these records refer to the same thing?\n",
            "(y)es / (n)o / (u)nsure / (f)inished / (p)revious\n"
          ]
        },
        {
          "name": "stdout",
          "output_type": "stream",
          "text": [
            "n\n"
          ]
        },
        {
          "name": "stderr",
          "output_type": "stream",
          "text": [
            "Nombre : raquel\n",
            "Apellido : menendez\n",
            "DNI : 509531\n",
            "Fecha de nacimiento : 1968-12-20\n",
            "\n",
            "Nombre : ariel\n",
            "Apellido : menendez\n",
            "DNI : 51926399\n",
            "Fecha de nacimiento : 1968-12-17\n",
            "\n",
            "0/10 positive, 4/10 negative\n",
            "Do these records refer to the same thing?\n",
            "(y)es / (n)o / (u)nsure / (f)inished / (p)revious\n"
          ]
        },
        {
          "name": "stdout",
          "output_type": "stream",
          "text": [
            "n\n"
          ]
        },
        {
          "name": "stderr",
          "output_type": "stream",
          "text": [
            "Nombre : martin\n",
            "Apellido : gonzalez\n",
            "DNI : 94120774\n",
            "Fecha de nacimiento : 1970-07-26\n",
            "\n",
            "Nombre : martirio\n",
            "Apellido : gonzalez\n",
            "DNI : 82386544\n",
            "Fecha de nacimiento : 1978-07-05\n",
            "\n",
            "0/10 positive, 5/10 negative\n",
            "Do these records refer to the same thing?\n",
            "(y)es / (n)o / (u)nsure / (f)inished / (p)revious\n"
          ]
        },
        {
          "name": "stdout",
          "output_type": "stream",
          "text": [
            "n\n"
          ]
        },
        {
          "name": "stderr",
          "output_type": "stream",
          "text": [
            "Nombre : geronimo\n",
            "Apellido : naranjo\n",
            "DNI : 5164889\n",
            "Fecha de nacimiento : 1996-07-22\n",
            "\n",
            "Nombre : geronimo\n",
            "Apellido : pina\n",
            "DNI : 21146051\n",
            "Fecha de nacimiento : 1994-07-23\n",
            "\n",
            "0/10 positive, 6/10 negative\n",
            "Do these records refer to the same thing?\n",
            "(y)es / (n)o / (u)nsure / (f)inished / (p)revious\n"
          ]
        },
        {
          "name": "stdout",
          "output_type": "stream",
          "text": [
            "n\n"
          ]
        },
        {
          "name": "stderr",
          "output_type": "stream",
          "text": [
            "Nombre : joaquina\n",
            "Apellido : mulet\n",
            "DNI : 75195903\n",
            "Fecha de nacimiento : 1957-07-22\n",
            "\n",
            "Nombre : joaquina\n",
            "Apellido : urrutia\n",
            "DNI : 78191883\n",
            "Fecha de nacimiento : 1975-07-04\n",
            "\n",
            "0/10 positive, 7/10 negative\n",
            "Do these records refer to the same thing?\n",
            "(y)es / (n)o / (u)nsure / (f)inished / (p)revious\n"
          ]
        },
        {
          "name": "stdout",
          "output_type": "stream",
          "text": [
            "n\n"
          ]
        },
        {
          "name": "stderr",
          "output_type": "stream",
          "text": [
            "Nombre : imelda\n",
            "Apellido : coronado\n",
            "DNI : 33700119\n",
            "Fecha de nacimiento : 1973-06-08\n",
            "\n",
            "Nombre : imelda\n",
            "Apellido : coronado\n",
            "DNI : 33700119\n",
            "Fecha de nacimiento : 1973-06-08\n",
            "\n",
            "0/10 positive, 8/10 negative\n",
            "Do these records refer to the same thing?\n",
            "(y)es / (n)o / (u)nsure / (f)inished / (p)revious\n"
          ]
        },
        {
          "name": "stdout",
          "output_type": "stream",
          "text": [
            "y\n"
          ]
        },
        {
          "name": "stderr",
          "output_type": "stream",
          "text": [
            "Nombre : paulina\n",
            "Apellido : castells\n",
            "DNI : 14182866\n",
            "Fecha de nacimiento : 1943-01-08\n",
            "\n",
            "Nombre : paulina\n",
            "Apellido : castells\n",
            "DNI : 14182866\n",
            "Fecha de nacimiento : 1943-01-08\n",
            "\n",
            "1/10 positive, 8/10 negative\n",
            "Do these records refer to the same thing?\n",
            "(y)es / (n)o / (u)nsure / (f)inished / (p)revious\n"
          ]
        },
        {
          "name": "stdout",
          "output_type": "stream",
          "text": [
            "y\n"
          ]
        },
        {
          "name": "stderr",
          "output_type": "stream",
          "text": [
            "Nombre : eligia\n",
            "Apellido : paz\n",
            "DNI : 53313615\n",
            "Fecha de nacimiento : 1984-11-05\n",
            "\n",
            "Nombre : eligia\n",
            "Apellido : paz\n",
            "DNI : 53313615\n",
            "Fecha de nacimiento : 1984-11-05\n",
            "\n",
            "2/10 positive, 8/10 negative\n",
            "Do these records refer to the same thing?\n",
            "(y)es / (n)o / (u)nsure / (f)inished / (p)revious\n"
          ]
        },
        {
          "name": "stdout",
          "output_type": "stream",
          "text": [
            "y\n"
          ]
        },
        {
          "name": "stderr",
          "output_type": "stream",
          "text": [
            "Nombre : delia\n",
            "Apellido : fuentes\n",
            "DNI : 9916972\n",
            "Fecha de nacimiento : 1984-01-27\n",
            "\n",
            "Nombre : delia\n",
            "Apellido : fuentes\n",
            "DNI : 9916972\n",
            "Fecha de nacimiento : 1984-01-27\n",
            "\n",
            "3/10 positive, 8/10 negative\n",
            "Do these records refer to the same thing?\n",
            "(y)es / (n)o / (u)nsure / (f)inished / (p)revious\n"
          ]
        },
        {
          "name": "stdout",
          "output_type": "stream",
          "text": [
            "y\n"
          ]
        },
        {
          "name": "stderr",
          "output_type": "stream",
          "text": [
            "Nombre : nilo\n",
            "Apellido : flor\n",
            "DNI : 50238386\n",
            "Fecha de nacimiento : 1974-12-10\n",
            "\n",
            "Nombre : florencia\n",
            "Apellido : flor\n",
            "DNI : 50503986\n",
            "Fecha de nacimiento : 1987-10-15\n",
            "\n",
            "4/10 positive, 8/10 negative\n",
            "Do these records refer to the same thing?\n",
            "(y)es / (n)o / (u)nsure / (f)inished / (p)revious\n"
          ]
        },
        {
          "name": "stdout",
          "output_type": "stream",
          "text": [
            "n\n"
          ]
        },
        {
          "name": "stderr",
          "output_type": "stream",
          "text": [
            "Nombre : bartolome\n",
            "Apellido : escriva\n",
            "DNI : 97205624\n",
            "Fecha de nacimiento : 1991-11-28\n",
            "\n",
            "Nombre : marta\n",
            "Apellido : estrada\n",
            "DNI : 60005624\n",
            "Fecha de nacimiento : 1981-04-01\n",
            "\n",
            "4/10 positive, 9/10 negative\n",
            "Do these records refer to the same thing?\n",
            "(y)es / (n)o / (u)nsure / (f)inished / (p)revious\n"
          ]
        },
        {
          "name": "stdout",
          "output_type": "stream",
          "text": [
            "n\n"
          ]
        },
        {
          "name": "stderr",
          "output_type": "stream",
          "text": [
            "Nombre : chita\n",
            "Apellido : sanchez\n",
            "DNI : 42622213\n",
            "Fecha de nacimiento : 1937-11-11\n",
            "\n",
            "Nombre : chita\n",
            "Apellido : sanchez\n",
            "DNI : 42622213\n",
            "Fecha de nacimiento : 1937-11-11\n",
            "\n",
            "4/10 positive, 10/10 negative\n",
            "Do these records refer to the same thing?\n",
            "(y)es / (n)o / (u)nsure / (f)inished / (p)revious\n"
          ]
        },
        {
          "name": "stdout",
          "output_type": "stream",
          "text": [
            "y\n"
          ]
        },
        {
          "name": "stderr",
          "output_type": "stream",
          "text": [
            "Nombre : pepe\n",
            "Apellido : leon\n",
            "DNI : 2761480\n",
            "Fecha de nacimiento : 1967-06-23\n",
            "\n",
            "Nombre : pepe\n",
            "Apellido : leon\n",
            "DNI : 2761480\n",
            "Fecha de nacimiento : 1967-06-23\n",
            "\n",
            "5/10 positive, 10/10 negative\n",
            "Do these records refer to the same thing?\n",
            "(y)es / (n)o / (u)nsure / (f)inished / (p)revious\n"
          ]
        },
        {
          "name": "stdout",
          "output_type": "stream",
          "text": [
            "y\n"
          ]
        },
        {
          "name": "stderr",
          "output_type": "stream",
          "text": [
            "Nombre : agustin\n",
            "Apellido : pellicer\n",
            "DNI : 29730082\n",
            "Fecha de nacimiento : 1937-01-24\n",
            "\n",
            "Nombre : agustin\n",
            "Apellido : pellicer\n",
            "DNI : 29730082\n",
            "Fecha de nacimiento : 1937-01-24\n",
            "\n",
            "6/10 positive, 10/10 negative\n",
            "Do these records refer to the same thing?\n",
            "(y)es / (n)o / (u)nsure / (f)inished / (p)revious\n"
          ]
        },
        {
          "name": "stdout",
          "output_type": "stream",
          "text": [
            "y\n"
          ]
        },
        {
          "name": "stderr",
          "output_type": "stream",
          "text": [
            "Nombre : geronimo\n",
            "Apellido : pina\n",
            "DNI : 21146051\n",
            "Fecha de nacimiento : 1994-07-23\n",
            "\n",
            "Nombre : geronimo\n",
            "Apellido : naranjo\n",
            "DNI : 5164889\n",
            "Fecha de nacimiento : 1996-07-22\n",
            "\n",
            "7/10 positive, 10/10 negative\n",
            "Do these records refer to the same thing?\n",
            "(y)es / (n)o / (u)nsure / (f)inished / (p)revious\n"
          ]
        },
        {
          "name": "stdout",
          "output_type": "stream",
          "text": [
            "n\n"
          ]
        },
        {
          "name": "stderr",
          "output_type": "stream",
          "text": [
            "Nombre : martin\n",
            "Apellido : gonzalez\n",
            "DNI : 94120774\n",
            "Fecha de nacimiento : 1970-07-26\n",
            "\n",
            "Nombre : martirio\n",
            "Apellido : gonzalez\n",
            "DNI : 82386544\n",
            "Fecha de nacimiento : 1978-07-05\n",
            "\n",
            "7/10 positive, 11/10 negative\n",
            "Do these records refer to the same thing?\n",
            "(y)es / (n)o / (u)nsure / (f)inished / (p)revious\n"
          ]
        },
        {
          "name": "stdout",
          "output_type": "stream",
          "text": [
            "n\n"
          ]
        },
        {
          "name": "stderr",
          "output_type": "stream",
          "text": [
            "Nombre : pastora\n",
            "Apellido : saenz\n",
            "DNI : 50173540\n",
            "Fecha de nacimiento : 2000-01-23\n",
            "\n",
            "Nombre : pastora\n",
            "Apellido : saenz\n",
            "DNI : 50173540\n",
            "Fecha de nacimiento : 2000-01-23\n",
            "\n",
            "7/10 positive, 12/10 negative\n",
            "Do these records refer to the same thing?\n",
            "(y)es / (n)o / (u)nsure / (f)inished / (p)revious\n"
          ]
        },
        {
          "name": "stdout",
          "output_type": "stream",
          "text": [
            "y\n"
          ]
        },
        {
          "name": "stderr",
          "output_type": "stream",
          "text": [
            "Nombre : teodora\n",
            "Apellido : rocamora\n",
            "DNI : 96693066\n",
            "Fecha de nacimiento : 1959-07-03\n",
            "\n",
            "Nombre : teodora\n",
            "Apellido : rocamora\n",
            "DNI : 96693066\n",
            "Fecha de nacimiento : 1959-07-03\n",
            "\n",
            "8/10 positive, 12/10 negative\n",
            "Do these records refer to the same thing?\n",
            "(y)es / (n)o / (u)nsure / (f)inished / (p)revious\n"
          ]
        },
        {
          "name": "stdout",
          "output_type": "stream",
          "text": [
            "y\n"
          ]
        },
        {
          "name": "stderr",
          "output_type": "stream",
          "text": [
            "Nombre : geronimo\n",
            "Apellido : naranjo\n",
            "DNI : 5164889\n",
            "Fecha de nacimiento : 1996-07-22\n",
            "\n",
            "Nombre : geronimo\n",
            "Apellido : naranjo\n",
            "DNI : 5164889\n",
            "Fecha de nacimiento : 1996-07-22\n",
            "\n",
            "9/10 positive, 12/10 negative\n",
            "Do these records refer to the same thing?\n",
            "(y)es / (n)o / (u)nsure / (f)inished / (p)revious\n"
          ]
        },
        {
          "name": "stdout",
          "output_type": "stream",
          "text": [
            "y\n"
          ]
        },
        {
          "name": "stderr",
          "output_type": "stream",
          "text": [
            "Nombre : emma\n",
            "Apellido : vallejo\n",
            "DNI : 24699522\n",
            "Fecha de nacimiento : 1998-07-05\n",
            "\n",
            "Nombre : eustaquio\n",
            "Apellido : vallejo\n",
            "DNI : 21682282\n",
            "Fecha de nacimiento : 1979-03-25\n",
            "\n",
            "10/10 positive, 12/10 negative\n",
            "Do these records refer to the same thing?\n",
            "(y)es / (n)o / (u)nsure / (f)inished / (p)revious\n"
          ]
        },
        {
          "name": "stdout",
          "output_type": "stream",
          "text": [
            "n\n"
          ]
        },
        {
          "name": "stderr",
          "output_type": "stream",
          "text": [
            "Nombre : eustaquio\n",
            "Apellido : vallejo\n",
            "DNI : 21682282\n",
            "Fecha de nacimiento : 1979-03-25\n",
            "\n",
            "Nombre : emma\n",
            "Apellido : vallejo\n",
            "DNI : 24699522\n",
            "Fecha de nacimiento : 1998-07-05\n",
            "\n",
            "10/10 positive, 13/10 negative\n",
            "Do these records refer to the same thing?\n",
            "(y)es / (n)o / (u)nsure / (f)inished / (p)revious\n"
          ]
        },
        {
          "name": "stdout",
          "output_type": "stream",
          "text": [
            "f\n"
          ]
        },
        {
          "name": "stderr",
          "output_type": "stream",
          "text": [
            "Finished labeling\n"
          ]
        },
        {
          "name": "stdout",
          "output_type": "stream",
          "text": [
            "Clustering...\n",
            "# duplicate sets 1000\n"
          ]
        }
      ],
      "source": [
        "dedupe_df = dedupe_dataframe(df, ['Nombre', 'Apellido', 'DNI', 'Fecha de nacimiento']) #Entrenando modelo"
      ]
    },
    {
      "cell_type": "code",
      "execution_count": 6,
      "metadata": {
        "colab": {
          "base_uri": "https://localhost:8080/",
          "height": 423
        },
        "id": "fw7SjVFm5p-Z",
        "outputId": "15c3120b-44cd-4420-d4a8-ad48f97886ea"
      },
      "outputs": [
        {
          "data": {
            "text/html": [
              "\n",
              "  <div id=\"df-ec14be4d-3434-4d32-b542-1bb41434899b\" class=\"colab-df-container\">\n",
              "    <div>\n",
              "<style scoped>\n",
              "    .dataframe tbody tr th:only-of-type {\n",
              "        vertical-align: middle;\n",
              "    }\n",
              "\n",
              "    .dataframe tbody tr th {\n",
              "        vertical-align: top;\n",
              "    }\n",
              "\n",
              "    .dataframe thead th {\n",
              "        text-align: right;\n",
              "    }\n",
              "</style>\n",
              "<table border=\"1\" class=\"dataframe\">\n",
              "  <thead>\n",
              "    <tr style=\"text-align: right;\">\n",
              "      <th></th>\n",
              "      <th>Nombre</th>\n",
              "      <th>Apellido</th>\n",
              "      <th>DNI</th>\n",
              "      <th>Fecha de nacimiento</th>\n",
              "      <th>cluster id</th>\n",
              "      <th>confidence</th>\n",
              "    </tr>\n",
              "  </thead>\n",
              "  <tbody>\n",
              "    <tr>\n",
              "      <th>999</th>\n",
              "      <td>mariana</td>\n",
              "      <td>marti</td>\n",
              "      <td>69417672</td>\n",
              "      <td>1981-03-20</td>\n",
              "      <td>999</td>\n",
              "      <td>1.000000</td>\n",
              "    </tr>\n",
              "    <tr>\n",
              "      <th>998</th>\n",
              "      <td>micaela</td>\n",
              "      <td>almeida</td>\n",
              "      <td>36609064</td>\n",
              "      <td>1958-02-09</td>\n",
              "      <td>998</td>\n",
              "      <td>1.000000</td>\n",
              "    </tr>\n",
              "    <tr>\n",
              "      <th>997</th>\n",
              "      <td>urbano</td>\n",
              "      <td>oliver</td>\n",
              "      <td>90237957</td>\n",
              "      <td>1961-05-24</td>\n",
              "      <td>997</td>\n",
              "      <td>1.000000</td>\n",
              "    </tr>\n",
              "    <tr>\n",
              "      <th>996</th>\n",
              "      <td>julia</td>\n",
              "      <td>alvarez</td>\n",
              "      <td>2671087</td>\n",
              "      <td>1955-04-14</td>\n",
              "      <td>996</td>\n",
              "      <td>1.000000</td>\n",
              "    </tr>\n",
              "    <tr>\n",
              "      <th>995</th>\n",
              "      <td>africa</td>\n",
              "      <td>santos</td>\n",
              "      <td>93741849</td>\n",
              "      <td>1980-01-06</td>\n",
              "      <td>995</td>\n",
              "      <td>1.000000</td>\n",
              "    </tr>\n",
              "    <tr>\n",
              "      <th>...</th>\n",
              "      <td>...</td>\n",
              "      <td>...</td>\n",
              "      <td>...</td>\n",
              "      <td>...</td>\n",
              "      <td>...</td>\n",
              "      <td>...</td>\n",
              "    </tr>\n",
              "    <tr>\n",
              "      <th>1062</th>\n",
              "      <td>roman</td>\n",
              "      <td>velasco</td>\n",
              "      <td>11893770</td>\n",
              "      <td>1973-02-20</td>\n",
              "      <td>2</td>\n",
              "      <td>0.539416</td>\n",
              "    </tr>\n",
              "    <tr>\n",
              "      <th>8</th>\n",
              "      <td>santiago</td>\n",
              "      <td>amador</td>\n",
              "      <td>26218645</td>\n",
              "      <td>2002-04-03</td>\n",
              "      <td>1</td>\n",
              "      <td>0.539416</td>\n",
              "    </tr>\n",
              "    <tr>\n",
              "      <th>1083</th>\n",
              "      <td>santiago</td>\n",
              "      <td>amador</td>\n",
              "      <td>26218645</td>\n",
              "      <td>2002-04-03</td>\n",
              "      <td>1</td>\n",
              "      <td>0.539416</td>\n",
              "    </tr>\n",
              "    <tr>\n",
              "      <th>5</th>\n",
              "      <td>herminio</td>\n",
              "      <td>pedraza</td>\n",
              "      <td>93914566</td>\n",
              "      <td>1966-10-30</td>\n",
              "      <td>0</td>\n",
              "      <td>0.539416</td>\n",
              "    </tr>\n",
              "    <tr>\n",
              "      <th>1055</th>\n",
              "      <td>herminio</td>\n",
              "      <td>pedraza</td>\n",
              "      <td>93914566</td>\n",
              "      <td>1966-10-30</td>\n",
              "      <td>0</td>\n",
              "      <td>0.539416</td>\n",
              "    </tr>\n",
              "  </tbody>\n",
              "</table>\n",
              "<p>1200 rows × 6 columns</p>\n",
              "</div>\n",
              "    <div class=\"colab-df-buttons\">\n",
              "\n",
              "  <div class=\"colab-df-container\">\n",
              "    <button class=\"colab-df-convert\" onclick=\"convertToInteractive('df-ec14be4d-3434-4d32-b542-1bb41434899b')\"\n",
              "            title=\"Convert this dataframe to an interactive table.\"\n",
              "            style=\"display:none;\">\n",
              "\n",
              "  <svg xmlns=\"http://www.w3.org/2000/svg\" height=\"24px\" viewBox=\"0 -960 960 960\">\n",
              "    <path d=\"M120-120v-720h720v720H120Zm60-500h600v-160H180v160Zm220 220h160v-160H400v160Zm0 220h160v-160H400v160ZM180-400h160v-160H180v160Zm440 0h160v-160H620v160ZM180-180h160v-160H180v160Zm440 0h160v-160H620v160Z\"/>\n",
              "  </svg>\n",
              "    </button>\n",
              "\n",
              "  <style>\n",
              "    .colab-df-container {\n",
              "      display:flex;\n",
              "      gap: 12px;\n",
              "    }\n",
              "\n",
              "    .colab-df-convert {\n",
              "      background-color: #E8F0FE;\n",
              "      border: none;\n",
              "      border-radius: 50%;\n",
              "      cursor: pointer;\n",
              "      display: none;\n",
              "      fill: #1967D2;\n",
              "      height: 32px;\n",
              "      padding: 0 0 0 0;\n",
              "      width: 32px;\n",
              "    }\n",
              "\n",
              "    .colab-df-convert:hover {\n",
              "      background-color: #E2EBFA;\n",
              "      box-shadow: 0px 1px 2px rgba(60, 64, 67, 0.3), 0px 1px 3px 1px rgba(60, 64, 67, 0.15);\n",
              "      fill: #174EA6;\n",
              "    }\n",
              "\n",
              "    .colab-df-buttons div {\n",
              "      margin-bottom: 4px;\n",
              "    }\n",
              "\n",
              "    [theme=dark] .colab-df-convert {\n",
              "      background-color: #3B4455;\n",
              "      fill: #D2E3FC;\n",
              "    }\n",
              "\n",
              "    [theme=dark] .colab-df-convert:hover {\n",
              "      background-color: #434B5C;\n",
              "      box-shadow: 0px 1px 3px 1px rgba(0, 0, 0, 0.15);\n",
              "      filter: drop-shadow(0px 1px 2px rgba(0, 0, 0, 0.3));\n",
              "      fill: #FFFFFF;\n",
              "    }\n",
              "  </style>\n",
              "\n",
              "    <script>\n",
              "      const buttonEl =\n",
              "        document.querySelector('#df-ec14be4d-3434-4d32-b542-1bb41434899b button.colab-df-convert');\n",
              "      buttonEl.style.display =\n",
              "        google.colab.kernel.accessAllowed ? 'block' : 'none';\n",
              "\n",
              "      async function convertToInteractive(key) {\n",
              "        const element = document.querySelector('#df-ec14be4d-3434-4d32-b542-1bb41434899b');\n",
              "        const dataTable =\n",
              "          await google.colab.kernel.invokeFunction('convertToInteractive',\n",
              "                                                    [key], {});\n",
              "        if (!dataTable) return;\n",
              "\n",
              "        const docLinkHtml = 'Like what you see? Visit the ' +\n",
              "          '<a target=\"_blank\" href=https://colab.research.google.com/notebooks/data_table.ipynb>data table notebook</a>'\n",
              "          + ' to learn more about interactive tables.';\n",
              "        element.innerHTML = '';\n",
              "        dataTable['output_type'] = 'display_data';\n",
              "        await google.colab.output.renderOutput(dataTable, element);\n",
              "        const docLink = document.createElement('div');\n",
              "        docLink.innerHTML = docLinkHtml;\n",
              "        element.appendChild(docLink);\n",
              "      }\n",
              "    </script>\n",
              "  </div>\n",
              "\n",
              "\n",
              "<div id=\"df-da229d6f-ec5d-4d19-93fc-d09022fabf41\">\n",
              "  <button class=\"colab-df-quickchart\" onclick=\"quickchart('df-da229d6f-ec5d-4d19-93fc-d09022fabf41')\"\n",
              "            title=\"Suggest charts.\"\n",
              "            style=\"display:none;\">\n",
              "\n",
              "<svg xmlns=\"http://www.w3.org/2000/svg\" height=\"24px\"viewBox=\"0 0 24 24\"\n",
              "     width=\"24px\">\n",
              "    <g>\n",
              "        <path d=\"M19 3H5c-1.1 0-2 .9-2 2v14c0 1.1.9 2 2 2h14c1.1 0 2-.9 2-2V5c0-1.1-.9-2-2-2zM9 17H7v-7h2v7zm4 0h-2V7h2v10zm4 0h-2v-4h2v4z\"/>\n",
              "    </g>\n",
              "</svg>\n",
              "  </button>\n",
              "\n",
              "<style>\n",
              "  .colab-df-quickchart {\n",
              "      --bg-color: #E8F0FE;\n",
              "      --fill-color: #1967D2;\n",
              "      --hover-bg-color: #E2EBFA;\n",
              "      --hover-fill-color: #174EA6;\n",
              "      --disabled-fill-color: #AAA;\n",
              "      --disabled-bg-color: #DDD;\n",
              "  }\n",
              "\n",
              "  [theme=dark] .colab-df-quickchart {\n",
              "      --bg-color: #3B4455;\n",
              "      --fill-color: #D2E3FC;\n",
              "      --hover-bg-color: #434B5C;\n",
              "      --hover-fill-color: #FFFFFF;\n",
              "      --disabled-bg-color: #3B4455;\n",
              "      --disabled-fill-color: #666;\n",
              "  }\n",
              "\n",
              "  .colab-df-quickchart {\n",
              "    background-color: var(--bg-color);\n",
              "    border: none;\n",
              "    border-radius: 50%;\n",
              "    cursor: pointer;\n",
              "    display: none;\n",
              "    fill: var(--fill-color);\n",
              "    height: 32px;\n",
              "    padding: 0;\n",
              "    width: 32px;\n",
              "  }\n",
              "\n",
              "  .colab-df-quickchart:hover {\n",
              "    background-color: var(--hover-bg-color);\n",
              "    box-shadow: 0 1px 2px rgba(60, 64, 67, 0.3), 0 1px 3px 1px rgba(60, 64, 67, 0.15);\n",
              "    fill: var(--button-hover-fill-color);\n",
              "  }\n",
              "\n",
              "  .colab-df-quickchart-complete:disabled,\n",
              "  .colab-df-quickchart-complete:disabled:hover {\n",
              "    background-color: var(--disabled-bg-color);\n",
              "    fill: var(--disabled-fill-color);\n",
              "    box-shadow: none;\n",
              "  }\n",
              "\n",
              "  .colab-df-spinner {\n",
              "    border: 2px solid var(--fill-color);\n",
              "    border-color: transparent;\n",
              "    border-bottom-color: var(--fill-color);\n",
              "    animation:\n",
              "      spin 1s steps(1) infinite;\n",
              "  }\n",
              "\n",
              "  @keyframes spin {\n",
              "    0% {\n",
              "      border-color: transparent;\n",
              "      border-bottom-color: var(--fill-color);\n",
              "      border-left-color: var(--fill-color);\n",
              "    }\n",
              "    20% {\n",
              "      border-color: transparent;\n",
              "      border-left-color: var(--fill-color);\n",
              "      border-top-color: var(--fill-color);\n",
              "    }\n",
              "    30% {\n",
              "      border-color: transparent;\n",
              "      border-left-color: var(--fill-color);\n",
              "      border-top-color: var(--fill-color);\n",
              "      border-right-color: var(--fill-color);\n",
              "    }\n",
              "    40% {\n",
              "      border-color: transparent;\n",
              "      border-right-color: var(--fill-color);\n",
              "      border-top-color: var(--fill-color);\n",
              "    }\n",
              "    60% {\n",
              "      border-color: transparent;\n",
              "      border-right-color: var(--fill-color);\n",
              "    }\n",
              "    80% {\n",
              "      border-color: transparent;\n",
              "      border-right-color: var(--fill-color);\n",
              "      border-bottom-color: var(--fill-color);\n",
              "    }\n",
              "    90% {\n",
              "      border-color: transparent;\n",
              "      border-bottom-color: var(--fill-color);\n",
              "    }\n",
              "  }\n",
              "</style>\n",
              "\n",
              "  <script>\n",
              "    async function quickchart(key) {\n",
              "      const quickchartButtonEl =\n",
              "        document.querySelector('#' + key + ' button');\n",
              "      quickchartButtonEl.disabled = true;  // To prevent multiple clicks.\n",
              "      quickchartButtonEl.classList.add('colab-df-spinner');\n",
              "      try {\n",
              "        const charts = await google.colab.kernel.invokeFunction(\n",
              "            'suggestCharts', [key], {});\n",
              "      } catch (error) {\n",
              "        console.error('Error during call to suggestCharts:', error);\n",
              "      }\n",
              "      quickchartButtonEl.classList.remove('colab-df-spinner');\n",
              "      quickchartButtonEl.classList.add('colab-df-quickchart-complete');\n",
              "    }\n",
              "    (() => {\n",
              "      let quickchartButtonEl =\n",
              "        document.querySelector('#df-da229d6f-ec5d-4d19-93fc-d09022fabf41 button');\n",
              "      quickchartButtonEl.style.display =\n",
              "        google.colab.kernel.accessAllowed ? 'block' : 'none';\n",
              "    })();\n",
              "  </script>\n",
              "</div>\n",
              "    </div>\n",
              "  </div>\n"
            ],
            "text/plain": [
              "        Nombre Apellido       DNI Fecha de nacimiento  cluster id  confidence\n",
              "999    mariana    marti  69417672          1981-03-20         999    1.000000\n",
              "998    micaela  almeida  36609064          1958-02-09         998    1.000000\n",
              "997     urbano   oliver  90237957          1961-05-24         997    1.000000\n",
              "996      julia  alvarez   2671087          1955-04-14         996    1.000000\n",
              "995     africa   santos  93741849          1980-01-06         995    1.000000\n",
              "...        ...      ...       ...                 ...         ...         ...\n",
              "1062     roman  velasco  11893770          1973-02-20           2    0.539416\n",
              "8     santiago   amador  26218645          2002-04-03           1    0.539416\n",
              "1083  santiago   amador  26218645          2002-04-03           1    0.539416\n",
              "5     herminio  pedraza  93914566          1966-10-30           0    0.539416\n",
              "1055  herminio  pedraza  93914566          1966-10-30           0    0.539416\n",
              "\n",
              "[1200 rows x 6 columns]"
            ]
          },
          "execution_count": 6,
          "metadata": {},
          "output_type": "execute_result"
        }
      ],
      "source": [
        "dedupe_df.sort_values(['confidence', 'cluster id'], ascending=False)"
      ]
    },
    {
      "cell_type": "code",
      "execution_count": 20,
      "metadata": {
        "colab": {
          "base_uri": "https://localhost:8080/"
        },
        "id": "e7FGprv2zkc4",
        "outputId": "4e68eb49-eec2-49c9-fc07-06bdeb4235f3"
      },
      "outputs": [
        {
          "data": {
            "text/plain": [
              "(400, 6)"
            ]
          },
          "execution_count": 20,
          "metadata": {},
          "output_type": "execute_result"
        }
      ],
      "source": [
        "out = dedupe_df[dedupe_df['confidence'] != 1]\n",
        "out.shape"
      ]
    },
    {
      "cell_type": "code",
      "execution_count": 21,
      "metadata": {
        "colab": {
          "base_uri": "https://localhost:8080/"
        },
        "id": "Iv-Vdhe2RGRo",
        "outputId": "2c325e2c-a176-4fd8-d35e-b208e926ca14"
      },
      "outputs": [
        {
          "data": {
            "text/plain": [
              "199"
            ]
          },
          "execution_count": 21,
          "metadata": {},
          "output_type": "execute_result"
        }
      ],
      "source": [
        "max(out['cluster id'])"
      ]
    },
    {
      "attachments": {},
      "cell_type": "markdown",
      "metadata": {
        "id": "5y52cEZBQ2V4"
      },
      "source": [
        "* Aqui podemos ver que encontro 200 duplicados. Que fueron los mismos 200 que generamos en el paso 3"
      ]
    },
    {
      "cell_type": "code",
      "execution_count": 15,
      "metadata": {
        "colab": {
          "base_uri": "https://localhost:8080/"
        },
        "id": "S3_OjcO4QOKD",
        "outputId": "034510bd-fe2d-4b9b-e3fd-f283a9f8b525"
      },
      "outputs": [
        {
          "data": {
            "text/plain": [
              "199"
            ]
          },
          "execution_count": 15,
          "metadata": {},
          "output_type": "execute_result"
        }
      ],
      "source": [
        "out = dedupe_df[dedupe_df['confidence'] != 1.0]\n",
        "max(out['cluster id'])"
      ]
    },
    {
      "attachments": {},
      "cell_type": "markdown",
      "metadata": {
        "id": "tQ9wgCsTR4h1"
      },
      "source": [
        "* Veamos algunos ejemplos:"
      ]
    },
    {
      "cell_type": "code",
      "execution_count": 22,
      "metadata": {
        "colab": {
          "base_uri": "https://localhost:8080/",
          "height": 112
        },
        "id": "PFoLXn4hNNOv",
        "outputId": "a999c8da-bef2-4863-f715-860d0ff10705"
      },
      "outputs": [
        {
          "data": {
            "text/html": [
              "\n",
              "  <div id=\"df-32254c9d-b9b4-4a27-beb2-8ebd069452e6\" class=\"colab-df-container\">\n",
              "    <div>\n",
              "<style scoped>\n",
              "    .dataframe tbody tr th:only-of-type {\n",
              "        vertical-align: middle;\n",
              "    }\n",
              "\n",
              "    .dataframe tbody tr th {\n",
              "        vertical-align: top;\n",
              "    }\n",
              "\n",
              "    .dataframe thead th {\n",
              "        text-align: right;\n",
              "    }\n",
              "</style>\n",
              "<table border=\"1\" class=\"dataframe\">\n",
              "  <thead>\n",
              "    <tr style=\"text-align: right;\">\n",
              "      <th></th>\n",
              "      <th>Nombre</th>\n",
              "      <th>Apellido</th>\n",
              "      <th>DNI</th>\n",
              "      <th>Fecha de nacimiento</th>\n",
              "      <th>cluster id</th>\n",
              "      <th>confidence</th>\n",
              "    </tr>\n",
              "  </thead>\n",
              "  <tbody>\n",
              "    <tr>\n",
              "      <th>205</th>\n",
              "      <td>bernabe</td>\n",
              "      <td>batlle</td>\n",
              "      <td>82336065</td>\n",
              "      <td>1994-10-14</td>\n",
              "      <td>50</td>\n",
              "      <td>0.539416</td>\n",
              "    </tr>\n",
              "    <tr>\n",
              "      <th>1184</th>\n",
              "      <td>bernabe</td>\n",
              "      <td>batlle</td>\n",
              "      <td>82336065</td>\n",
              "      <td>1994-10-14</td>\n",
              "      <td>50</td>\n",
              "      <td>0.539416</td>\n",
              "    </tr>\n",
              "  </tbody>\n",
              "</table>\n",
              "</div>\n",
              "    <div class=\"colab-df-buttons\">\n",
              "\n",
              "  <div class=\"colab-df-container\">\n",
              "    <button class=\"colab-df-convert\" onclick=\"convertToInteractive('df-32254c9d-b9b4-4a27-beb2-8ebd069452e6')\"\n",
              "            title=\"Convert this dataframe to an interactive table.\"\n",
              "            style=\"display:none;\">\n",
              "\n",
              "  <svg xmlns=\"http://www.w3.org/2000/svg\" height=\"24px\" viewBox=\"0 -960 960 960\">\n",
              "    <path d=\"M120-120v-720h720v720H120Zm60-500h600v-160H180v160Zm220 220h160v-160H400v160Zm0 220h160v-160H400v160ZM180-400h160v-160H180v160Zm440 0h160v-160H620v160ZM180-180h160v-160H180v160Zm440 0h160v-160H620v160Z\"/>\n",
              "  </svg>\n",
              "    </button>\n",
              "\n",
              "  <style>\n",
              "    .colab-df-container {\n",
              "      display:flex;\n",
              "      gap: 12px;\n",
              "    }\n",
              "\n",
              "    .colab-df-convert {\n",
              "      background-color: #E8F0FE;\n",
              "      border: none;\n",
              "      border-radius: 50%;\n",
              "      cursor: pointer;\n",
              "      display: none;\n",
              "      fill: #1967D2;\n",
              "      height: 32px;\n",
              "      padding: 0 0 0 0;\n",
              "      width: 32px;\n",
              "    }\n",
              "\n",
              "    .colab-df-convert:hover {\n",
              "      background-color: #E2EBFA;\n",
              "      box-shadow: 0px 1px 2px rgba(60, 64, 67, 0.3), 0px 1px 3px 1px rgba(60, 64, 67, 0.15);\n",
              "      fill: #174EA6;\n",
              "    }\n",
              "\n",
              "    .colab-df-buttons div {\n",
              "      margin-bottom: 4px;\n",
              "    }\n",
              "\n",
              "    [theme=dark] .colab-df-convert {\n",
              "      background-color: #3B4455;\n",
              "      fill: #D2E3FC;\n",
              "    }\n",
              "\n",
              "    [theme=dark] .colab-df-convert:hover {\n",
              "      background-color: #434B5C;\n",
              "      box-shadow: 0px 1px 3px 1px rgba(0, 0, 0, 0.15);\n",
              "      filter: drop-shadow(0px 1px 2px rgba(0, 0, 0, 0.3));\n",
              "      fill: #FFFFFF;\n",
              "    }\n",
              "  </style>\n",
              "\n",
              "    <script>\n",
              "      const buttonEl =\n",
              "        document.querySelector('#df-32254c9d-b9b4-4a27-beb2-8ebd069452e6 button.colab-df-convert');\n",
              "      buttonEl.style.display =\n",
              "        google.colab.kernel.accessAllowed ? 'block' : 'none';\n",
              "\n",
              "      async function convertToInteractive(key) {\n",
              "        const element = document.querySelector('#df-32254c9d-b9b4-4a27-beb2-8ebd069452e6');\n",
              "        const dataTable =\n",
              "          await google.colab.kernel.invokeFunction('convertToInteractive',\n",
              "                                                    [key], {});\n",
              "        if (!dataTable) return;\n",
              "\n",
              "        const docLinkHtml = 'Like what you see? Visit the ' +\n",
              "          '<a target=\"_blank\" href=https://colab.research.google.com/notebooks/data_table.ipynb>data table notebook</a>'\n",
              "          + ' to learn more about interactive tables.';\n",
              "        element.innerHTML = '';\n",
              "        dataTable['output_type'] = 'display_data';\n",
              "        await google.colab.output.renderOutput(dataTable, element);\n",
              "        const docLink = document.createElement('div');\n",
              "        docLink.innerHTML = docLinkHtml;\n",
              "        element.appendChild(docLink);\n",
              "      }\n",
              "    </script>\n",
              "  </div>\n",
              "\n",
              "\n",
              "<div id=\"df-be3308ba-366c-4829-b4de-3139fbd5fb8e\">\n",
              "  <button class=\"colab-df-quickchart\" onclick=\"quickchart('df-be3308ba-366c-4829-b4de-3139fbd5fb8e')\"\n",
              "            title=\"Suggest charts.\"\n",
              "            style=\"display:none;\">\n",
              "\n",
              "<svg xmlns=\"http://www.w3.org/2000/svg\" height=\"24px\"viewBox=\"0 0 24 24\"\n",
              "     width=\"24px\">\n",
              "    <g>\n",
              "        <path d=\"M19 3H5c-1.1 0-2 .9-2 2v14c0 1.1.9 2 2 2h14c1.1 0 2-.9 2-2V5c0-1.1-.9-2-2-2zM9 17H7v-7h2v7zm4 0h-2V7h2v10zm4 0h-2v-4h2v4z\"/>\n",
              "    </g>\n",
              "</svg>\n",
              "  </button>\n",
              "\n",
              "<style>\n",
              "  .colab-df-quickchart {\n",
              "      --bg-color: #E8F0FE;\n",
              "      --fill-color: #1967D2;\n",
              "      --hover-bg-color: #E2EBFA;\n",
              "      --hover-fill-color: #174EA6;\n",
              "      --disabled-fill-color: #AAA;\n",
              "      --disabled-bg-color: #DDD;\n",
              "  }\n",
              "\n",
              "  [theme=dark] .colab-df-quickchart {\n",
              "      --bg-color: #3B4455;\n",
              "      --fill-color: #D2E3FC;\n",
              "      --hover-bg-color: #434B5C;\n",
              "      --hover-fill-color: #FFFFFF;\n",
              "      --disabled-bg-color: #3B4455;\n",
              "      --disabled-fill-color: #666;\n",
              "  }\n",
              "\n",
              "  .colab-df-quickchart {\n",
              "    background-color: var(--bg-color);\n",
              "    border: none;\n",
              "    border-radius: 50%;\n",
              "    cursor: pointer;\n",
              "    display: none;\n",
              "    fill: var(--fill-color);\n",
              "    height: 32px;\n",
              "    padding: 0;\n",
              "    width: 32px;\n",
              "  }\n",
              "\n",
              "  .colab-df-quickchart:hover {\n",
              "    background-color: var(--hover-bg-color);\n",
              "    box-shadow: 0 1px 2px rgba(60, 64, 67, 0.3), 0 1px 3px 1px rgba(60, 64, 67, 0.15);\n",
              "    fill: var(--button-hover-fill-color);\n",
              "  }\n",
              "\n",
              "  .colab-df-quickchart-complete:disabled,\n",
              "  .colab-df-quickchart-complete:disabled:hover {\n",
              "    background-color: var(--disabled-bg-color);\n",
              "    fill: var(--disabled-fill-color);\n",
              "    box-shadow: none;\n",
              "  }\n",
              "\n",
              "  .colab-df-spinner {\n",
              "    border: 2px solid var(--fill-color);\n",
              "    border-color: transparent;\n",
              "    border-bottom-color: var(--fill-color);\n",
              "    animation:\n",
              "      spin 1s steps(1) infinite;\n",
              "  }\n",
              "\n",
              "  @keyframes spin {\n",
              "    0% {\n",
              "      border-color: transparent;\n",
              "      border-bottom-color: var(--fill-color);\n",
              "      border-left-color: var(--fill-color);\n",
              "    }\n",
              "    20% {\n",
              "      border-color: transparent;\n",
              "      border-left-color: var(--fill-color);\n",
              "      border-top-color: var(--fill-color);\n",
              "    }\n",
              "    30% {\n",
              "      border-color: transparent;\n",
              "      border-left-color: var(--fill-color);\n",
              "      border-top-color: var(--fill-color);\n",
              "      border-right-color: var(--fill-color);\n",
              "    }\n",
              "    40% {\n",
              "      border-color: transparent;\n",
              "      border-right-color: var(--fill-color);\n",
              "      border-top-color: var(--fill-color);\n",
              "    }\n",
              "    60% {\n",
              "      border-color: transparent;\n",
              "      border-right-color: var(--fill-color);\n",
              "    }\n",
              "    80% {\n",
              "      border-color: transparent;\n",
              "      border-right-color: var(--fill-color);\n",
              "      border-bottom-color: var(--fill-color);\n",
              "    }\n",
              "    90% {\n",
              "      border-color: transparent;\n",
              "      border-bottom-color: var(--fill-color);\n",
              "    }\n",
              "  }\n",
              "</style>\n",
              "\n",
              "  <script>\n",
              "    async function quickchart(key) {\n",
              "      const quickchartButtonEl =\n",
              "        document.querySelector('#' + key + ' button');\n",
              "      quickchartButtonEl.disabled = true;  // To prevent multiple clicks.\n",
              "      quickchartButtonEl.classList.add('colab-df-spinner');\n",
              "      try {\n",
              "        const charts = await google.colab.kernel.invokeFunction(\n",
              "            'suggestCharts', [key], {});\n",
              "      } catch (error) {\n",
              "        console.error('Error during call to suggestCharts:', error);\n",
              "      }\n",
              "      quickchartButtonEl.classList.remove('colab-df-spinner');\n",
              "      quickchartButtonEl.classList.add('colab-df-quickchart-complete');\n",
              "    }\n",
              "    (() => {\n",
              "      let quickchartButtonEl =\n",
              "        document.querySelector('#df-be3308ba-366c-4829-b4de-3139fbd5fb8e button');\n",
              "      quickchartButtonEl.style.display =\n",
              "        google.colab.kernel.accessAllowed ? 'block' : 'none';\n",
              "    })();\n",
              "  </script>\n",
              "</div>\n",
              "    </div>\n",
              "  </div>\n"
            ],
            "text/plain": [
              "       Nombre Apellido       DNI Fecha de nacimiento  cluster id  confidence\n",
              "205   bernabe   batlle  82336065          1994-10-14          50    0.539416\n",
              "1184  bernabe   batlle  82336065          1994-10-14          50    0.539416"
            ]
          },
          "execution_count": 22,
          "metadata": {},
          "output_type": "execute_result"
        }
      ],
      "source": [
        "dedupe_df[dedupe_df['cluster id'] == 50]"
      ]
    },
    {
      "cell_type": "code",
      "execution_count": null,
      "metadata": {
        "id": "5k3mU8mbSGp0"
      },
      "outputs": [],
      "source": []
    }
  ],
  "metadata": {
    "colab": {
      "provenance": []
    },
    "kernelspec": {
      "display_name": "Python 3",
      "name": "python3"
    },
    "language_info": {
      "name": "python"
    }
  },
  "nbformat": 4,
  "nbformat_minor": 0
}
